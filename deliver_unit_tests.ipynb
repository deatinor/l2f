{
 "cells": [
  {
   "cell_type": "code",
   "execution_count": 11,
   "metadata": {},
   "outputs": [],
   "source": [
    "from acoustics import generalized_detrending, sorted_density, sorted_density_feature\n",
    "from acoustics_helpers import remove_direct_sound, curve_fitting_echo_density"
   ]
  },
  {
   "cell_type": "code",
   "execution_count": 12,
   "metadata": {},
   "outputs": [],
   "source": [
    "# test the basic functionalities (these should later become unit tests for the new modules)\n",
    "array = [1, 2, 3, 4, 5]\n",
    "ws_detrending = 5\n",
    "ws_sorted_density = 5\n",
    "Fs = 48000"
   ]
  },
  {
   "cell_type": "code",
   "execution_count": 13,
   "metadata": {},
   "outputs": [
    {
     "name": "stdout",
     "output_type": "stream",
     "text": [
      "[array([0.15384615]), array([0.4137931]), array([0.93103448]), array([0.96]), array([1.2195122])]\n",
      "0.4544098081884528\n",
      "[0.5555555555555556, 0.5, 0.4666666666666667, 0.5357142857142857, 0.611111111111111]\n"
     ]
    }
   ],
   "source": [
    "gt = generalized_detrending(array, ws_detrending, Fs)\n",
    "print(gt)\n",
    "sd = sorted_density(gt, Fs)\n",
    "print(sd)\n",
    "echo_density = sorted_density_feature(array, ws_sorted_density, Fs)\n",
    "print(echo_density)"
   ]
  },
  {
   "cell_type": "code",
   "execution_count": null,
   "metadata": {},
   "outputs": [],
   "source": []
  }
 ],
 "metadata": {
  "kernelspec": {
   "display_name": "Python [default]",
   "language": "python",
   "name": "python3"
  },
  "language_info": {
   "codemirror_mode": {
    "name": "ipython",
    "version": 3
   },
   "file_extension": ".py",
   "mimetype": "text/x-python",
   "name": "python",
   "nbconvert_exporter": "python",
   "pygments_lexer": "ipython3",
   "version": "3.5.6"
  }
 },
 "nbformat": 4,
 "nbformat_minor": 2
}
