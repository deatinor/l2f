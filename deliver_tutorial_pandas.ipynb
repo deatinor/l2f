{
 "cells": [
  {
   "cell_type": "markdown",
   "metadata": {},
   "source": [
    "## Analysis of acoustic signals - plain code"
   ]
  },
  {
   "cell_type": "markdown",
   "metadata": {},
   "source": [
    "This notebook is the initial implementation of the required functionalities in plain python code."
   ]
  },
  {
   "cell_type": "code",
   "execution_count": 5,
   "metadata": {},
   "outputs": [],
   "source": [
    "from acoustics import generalized_detrending, sorted_density, sorted_density_feature, gaussian_sorted_density\n",
    "from acoustics_helpers import remove_direct_sound, curve_fitting_echo_density"
   ]
  },
  {
   "cell_type": "code",
   "execution_count": 6,
   "metadata": {},
   "outputs": [],
   "source": [
    "%matplotlib inline\n",
    "import matplotlib.pyplot as plt\n",
    "import numpy as np\n",
    "import pandas as pd\n",
    "import h5py"
   ]
  },
  {
   "cell_type": "code",
   "execution_count": 7,
   "metadata": {},
   "outputs": [],
   "source": [
    "with h5py.File('data.h5', 'r') as hf:\n",
    "    Fs_array = list(hf['Fs'])\n",
    "    dataset_simulation_polybox = list(hf['dataset_simulation_polybox'])\n",
    "    dataset_simulation_sliding_lid = list(hf['dataset_simulation_sliding_lid'])\n",
    "    dataset_measurement_volume = list(hf['dataset_measurement_volume'])"
   ]
  },
  {
   "cell_type": "code",
   "execution_count": 8,
   "metadata": {},
   "outputs": [],
   "source": [
    "Fs = Fs_array[1]"
   ]
  },
  {
   "cell_type": "code",
   "execution_count": 9,
   "metadata": {},
   "outputs": [],
   "source": [
    "# ws stands for window size\n",
    "ws_detrending = int(0.025*Fs)     # 25ms\n",
    "ws_sorted_density = int(0.2*Fs)   # 200ms\n",
    "milliseconds_to_remove = 10 # for the remove the direct path function\n",
    "signal_length = 1"
   ]
  },
  {
   "cell_type": "code",
   "execution_count": 10,
   "metadata": {},
   "outputs": [
    {
     "name": "stdout",
     "output_type": "stream",
     "text": [
      "Sorted density for Gaussian signal:  0.18394016338282398\n"
     ]
    }
   ],
   "source": [
    "gaussian_sd = gaussian_sorted_density(ws_detrending, Fs)\n",
    "print('Sorted density for Gaussian signal: ', gaussian_sd)"
   ]
  },
  {
   "cell_type": "code",
   "execution_count": 11,
   "metadata": {},
   "outputs": [
    {
     "data": {
      "text/html": [
       "<div>\n",
       "<style scoped>\n",
       "    .dataframe tbody tr th:only-of-type {\n",
       "        vertical-align: middle;\n",
       "    }\n",
       "\n",
       "    .dataframe tbody tr th {\n",
       "        vertical-align: top;\n",
       "    }\n",
       "\n",
       "    .dataframe thead th {\n",
       "        text-align: right;\n",
       "    }\n",
       "</style>\n",
       "<table border=\"1\" class=\"dataframe\">\n",
       "  <thead>\n",
       "    <tr style=\"text-align: right;\">\n",
       "      <th></th>\n",
       "      <th>closed</th>\n",
       "      <th>almost_closed</th>\n",
       "      <th>almost_open</th>\n",
       "      <th>open</th>\n",
       "    </tr>\n",
       "  </thead>\n",
       "  <tbody>\n",
       "    <tr>\n",
       "      <th>00:00:00</th>\n",
       "      <td>0.000000e+00</td>\n",
       "      <td>0.000000e+00</td>\n",
       "      <td>0.000000e+00</td>\n",
       "      <td>0.000000e+00</td>\n",
       "    </tr>\n",
       "    <tr>\n",
       "      <th>00:00:00.000170</th>\n",
       "      <td>4.443116e-07</td>\n",
       "      <td>4.372601e-07</td>\n",
       "      <td>4.443116e-07</td>\n",
       "      <td>4.456350e-07</td>\n",
       "    </tr>\n",
       "    <tr>\n",
       "      <th>00:00:00.000340</th>\n",
       "      <td>1.300656e-05</td>\n",
       "      <td>1.283440e-05</td>\n",
       "      <td>1.300656e-05</td>\n",
       "      <td>1.303693e-05</td>\n",
       "    </tr>\n",
       "    <tr>\n",
       "      <th>00:00:00.000510</th>\n",
       "      <td>4.364509e-05</td>\n",
       "      <td>4.311583e-05</td>\n",
       "      <td>4.364509e-05</td>\n",
       "      <td>4.377377e-05</td>\n",
       "    </tr>\n",
       "    <tr>\n",
       "      <th>00:00:00.000680</th>\n",
       "      <td>1.987153e-05</td>\n",
       "      <td>1.957845e-05</td>\n",
       "      <td>1.987153e-05</td>\n",
       "      <td>1.991281e-05</td>\n",
       "    </tr>\n",
       "  </tbody>\n",
       "</table>\n",
       "</div>"
      ],
      "text/plain": [
       "                       closed  almost_closed   almost_open          open\n",
       "00:00:00         0.000000e+00   0.000000e+00  0.000000e+00  0.000000e+00\n",
       "00:00:00.000170  4.443116e-07   4.372601e-07  4.443116e-07  4.456350e-07\n",
       "00:00:00.000340  1.300656e-05   1.283440e-05  1.300656e-05  1.303693e-05\n",
       "00:00:00.000510  4.364509e-05   4.311583e-05  4.364509e-05  4.377377e-05\n",
       "00:00:00.000680  1.987153e-05   1.957845e-05  1.987153e-05  1.991281e-05"
      ]
     },
     "execution_count": 11,
     "metadata": {},
     "output_type": "execute_result"
    }
   ],
   "source": [
    "dictionary = {'closed' : dataset_simulation_sliding_lid[0], \n",
    "              'almost_closed' : dataset_simulation_sliding_lid[1], \n",
    "              'almost_open' : dataset_simulation_sliding_lid[2], \n",
    "              'open' : dataset_simulation_sliding_lid[3]}\n",
    "data_simulation_sliding_lid = pd.DataFrame(data = dictionary, index = pd.timedelta_range(start=pd.Timedelta(days=0), \n",
    "                                                                                         freq=str(round(1000/Fs, 5)) + 'ms', \n",
    "                                                                                         periods=len(dataset_simulation_sliding_lid[0])))\n",
    "data_simulation_sliding_lid.head()"
   ]
  },
  {
   "cell_type": "code",
   "execution_count": 12,
   "metadata": {},
   "outputs": [],
   "source": [
    "signal = data_simulation_sliding_lid['closed'].to_numpy()"
   ]
  },
  {
   "cell_type": "code",
   "execution_count": 13,
   "metadata": {},
   "outputs": [
    {
     "data": {
      "text/plain": [
       "<matplotlib.legend.Legend at 0x247d29e0898>"
      ]
     },
     "execution_count": 13,
     "metadata": {},
     "output_type": "execute_result"
    },
    {
     "data": {
      "image/png": "[encoded data removed]",
      "text/plain": [
       "<Figure size 432x288 with 1 Axes>"
      ]
     },
     "metadata": {
      "needs_background": "light"
     },
     "output_type": "display_data"
    }
   ],
   "source": [
    "t = np.array(range(len(signal)))/Fs\n",
    "plt.plot(t[:len(signal)], signal, label='acoustic impulse response')\n",
    "signal = remove_direct_sound(signal, Fs, signal_length)\n",
    "plt.plot(t[:len(signal)], signal, label='early reflections and reverberation')\n",
    "plt.legend()"
   ]
  },
  {
   "cell_type": "code",
   "execution_count": 14,
   "metadata": {},
   "outputs": [
    {
     "data": {
      "text/plain": [
       "<matplotlib.legend.Legend at 0x247aef89d68>"
      ]
     },
     "execution_count": 14,
     "metadata": {},
     "output_type": "execute_result"
    },
    {
     "data": {
      "image/png": "[encoded data removed]",
      "text/plain": [
       "<Figure size 432x288 with 1 Axes>"
      ]
     },
     "metadata": {
      "needs_background": "light"
     },
     "output_type": "display_data"
    }
   ],
   "source": [
    "detrended_signal = generalized_detrending(signal, ws_detrending, Fs)\n",
    "plt.plot(t[:len(signal)], signal/np.max(np.abs(signal)), alpha=0.7, label='signal before detrending')\n",
    "plt.plot(t[:len(detrended_signal)], detrended_signal/np.max(np.abs(detrended_signal)), alpha=0.7, label='generalized detrending')\n",
    "plt.legend()"
   ]
  },
  {
   "cell_type": "code",
   "execution_count": 15,
   "metadata": {},
   "outputs": [
    {
     "data": {
      "text/plain": [
       "[<matplotlib.lines.Line2D at 0x247d2b842e8>]"
      ]
     },
     "execution_count": 15,
     "metadata": {},
     "output_type": "execute_result"
    },
    {
     "data": {
      "image/png": "[encoded data removed]",
      "text/plain": [
       "<Figure size 432x288 with 1 Axes>"
      ]
     },
     "metadata": {
      "needs_background": "light"
     },
     "output_type": "display_data"
    }
   ],
   "source": [
    "echo_density = sorted_density_feature(detrended_signal, ws_sorted_density, Fs)\n",
    "echo_density = echo_density/gaussian_sd\n",
    "plt.plot(t[:len(echo_density)], echo_density)"
   ]
  },
  {
   "cell_type": "code",
   "execution_count": 16,
   "metadata": {},
   "outputs": [
    {
     "name": "stdout",
     "output_type": "stream",
     "text": [
      "1.6312575425264249\n"
     ]
    }
   ],
   "source": [
    "n = curve_fitting_echo_density(echo_density, Fs)\n",
    "print(n)"
   ]
  },
  {
   "cell_type": "markdown",
   "metadata": {},
   "source": [
    "### Each one of the demos has some specific parameters"
   ]
  },
  {
   "cell_type": "code",
   "execution_count": 17,
   "metadata": {},
   "outputs": [],
   "source": [
    "# simulations: polybox, 1, curve fitting\n",
    "# simulations: sliding lid, 1, curve fitting\n",
    "# measurements: volume, 1, curve fitting 2"
   ]
  },
  {
   "cell_type": "code",
   "execution_count": null,
   "metadata": {},
   "outputs": [],
   "source": [
    "#2nd version of curve fitting:\n",
    "data_points_in = data_points_in(round(Fs)*0.02:end);\n",
    "E0 = data_points_in(1);\n",
    "data_points = max(data_points_in - E0, 0) + 0.0001;\n",
    "index = 0;\n",
    "t = (index + (1:length(data_points)))/Fs; \n",
    "t_bias = 0.03; % comes from the removal of the direct path"
   ]
  }
 ],
 "metadata": {
  "kernelspec": {
   "display_name": "Python 3",
   "language": "python",
   "name": "python3"
  },
  "language_info": {
   "codemirror_mode": {
    "name": "ipython",
    "version": 3
   },
   "file_extension": ".py",
   "mimetype": "text/x-python",
   "name": "python",
   "nbconvert_exporter": "python",
   "pygments_lexer": "ipython3",
   "version": "3.7.0"
  }
 },
 "nbformat": 4,
 "nbformat_minor": 2
}
