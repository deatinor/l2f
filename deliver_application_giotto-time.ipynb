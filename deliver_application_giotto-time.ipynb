{
 "cells": [
  {
   "cell_type": "markdown",
   "metadata": {},
   "source": [
    "### New giotto-time features: generalized detrending and sorted density"
   ]
  },
  {
   "cell_type": "markdown",
   "metadata": {},
   "source": [
    "*Created by:* Helena Peic Tukuljac, February 2020 \n",
    "\n",
    "*Blog post:* \"Generalized detrending and sorted density in acoustic data with giotto-time\" ADD LINK\n",
    "\n",
    "*Summary:* This notebook provides a tutorial for time series analysis with [giotto-time](https://github.com/giotto-ai/giotto-time). The goal is to do time series analysis with generalized trend removal and also sorted density characterization.\n",
    "\n",
    "*Data:* Data comes from the simulated and measured impulse responses used in the following publication:\n",
    "H. P. Tukuljac, V. Pulkki, H. Gamper, K. Godin, I. J. Tashev and N. Raghuvanshi, \"A Sparsity Measure for Echo Density Growth in General Environments,\" ICASSP 2019 - 2019 IEEE International Conference on Acoustics, Speech and Signal Processing (ICASSP), Brighton, United Kingdom, 2019, pp. 1-5.\n",
    "URL: http://ieeexplore.ieee.org/stamp/stamp.jsp?tp=&arnumber=8682878&isnumber=8682151\n",
    "\n",
    "\n",
    "*Contents:*\n",
    "* Generalized deternding\n",
    "* Sorted density feature\n",
    "* Exponential curve fitting in log(t) domain"
   ]
  },
  {
   "cell_type": "code",
   "execution_count": 11,
   "metadata": {},
   "outputs": [],
   "source": [
    "%matplotlib inline\n",
    "import matplotlib.pyplot as plt\n",
    "import numpy as np\n",
    "import pandas as pd\n",
    "import h5py"
   ]
  },
  {
   "cell_type": "markdown",
   "metadata": {},
   "source": [
    "### Data in H5 format"
   ]
  },
  {
   "cell_type": "code",
   "execution_count": 12,
   "metadata": {},
   "outputs": [],
   "source": [
    "# there are 4 types of impulse responses: 2x simulations and 2x measurements\n",
    "with h5py.File('data.h5', 'r') as hf:\n",
    "    Fs = list(hf['Fs'])\n",
    "    dataset_simulation_polybox = list(hf['dataset_simulation_polybox'])\n",
    "    dataset_simulation_sliding_lid = list(hf['dataset_simulation_sliding_lid'])\n",
    "    dataset_measurement_studio_h = list(hf['dataset_measurement_studio_h'])\n",
    "    dataset_measurement_volume = list(hf['dataset_measurement_volume'])"
   ]
  },
  {
   "cell_type": "markdown",
   "metadata": {},
   "source": [
    "### Data as pandas series"
   ]
  },
  {
   "cell_type": "code",
   "execution_count": 13,
   "metadata": {},
   "outputs": [
    {
     "data": {
      "text/html": [
       "<div>\n",
       "<style scoped>\n",
       "    .dataframe tbody tr th:only-of-type {\n",
       "        vertical-align: middle;\n",
       "    }\n",
       "\n",
       "    .dataframe tbody tr th {\n",
       "        vertical-align: top;\n",
       "    }\n",
       "\n",
       "    .dataframe thead th {\n",
       "        text-align: right;\n",
       "    }\n",
       "</style>\n",
       "<table border=\"1\" class=\"dataframe\">\n",
       "  <thead>\n",
       "    <tr style=\"text-align: right;\">\n",
       "      <th></th>\n",
       "      <th>polybox1</th>\n",
       "      <th>polybox2</th>\n",
       "      <th>polybox3</th>\n",
       "    </tr>\n",
       "  </thead>\n",
       "  <tbody>\n",
       "    <tr>\n",
       "      <th>00:00:00</th>\n",
       "      <td>0.000000e+00</td>\n",
       "      <td>0.000000e+00</td>\n",
       "      <td>0.000000e+00</td>\n",
       "    </tr>\n",
       "    <tr>\n",
       "      <th>00:00:00.000170</th>\n",
       "      <td>7.475587e-07</td>\n",
       "      <td>7.604145e-07</td>\n",
       "      <td>7.445461e-07</td>\n",
       "    </tr>\n",
       "    <tr>\n",
       "      <th>00:00:00.000340</th>\n",
       "      <td>2.198212e-05</td>\n",
       "      <td>2.231809e-05</td>\n",
       "      <td>2.193096e-05</td>\n",
       "    </tr>\n",
       "    <tr>\n",
       "      <th>00:00:00.000510</th>\n",
       "      <td>7.384641e-05</td>\n",
       "      <td>7.500967e-05</td>\n",
       "      <td>7.366796e-05</td>\n",
       "    </tr>\n",
       "    <tr>\n",
       "      <th>00:00:00.000680</th>\n",
       "      <td>3.275091e-05</td>\n",
       "      <td>3.326645e-05</td>\n",
       "      <td>3.260609e-05</td>\n",
       "    </tr>\n",
       "  </tbody>\n",
       "</table>\n",
       "</div>"
      ],
      "text/plain": [
       "                     polybox1      polybox2      polybox3\n",
       "00:00:00         0.000000e+00  0.000000e+00  0.000000e+00\n",
       "00:00:00.000170  7.475587e-07  7.604145e-07  7.445461e-07\n",
       "00:00:00.000340  2.198212e-05  2.231809e-05  2.193096e-05\n",
       "00:00:00.000510  7.384641e-05  7.500967e-05  7.366796e-05\n",
       "00:00:00.000680  3.275091e-05  3.326645e-05  3.260609e-05"
      ]
     },
     "execution_count": 13,
     "metadata": {},
     "output_type": "execute_result"
    }
   ],
   "source": [
    "dictionary = {'polybox1' : dataset_simulation_polybox[0], \n",
    "              'polybox2' : dataset_simulation_polybox[1], \n",
    "              'polybox3' : dataset_simulation_polybox[2]}\n",
    "data_simulation_polybox = pd.DataFrame(data = dictionary, index = pd.timedelta_range(start=pd.Timedelta(days=0), freq=str(round(1000/Fs[0], 5)) + 'ms', \n",
    "                                   periods=len(dataset_simulation_polybox[0])))\n",
    "data_simulation_polybox.head()"
   ]
  },
  {
   "cell_type": "code",
   "execution_count": 14,
   "metadata": {},
   "outputs": [
    {
     "data": {
      "text/html": [
       "<div>\n",
       "<style scoped>\n",
       "    .dataframe tbody tr th:only-of-type {\n",
       "        vertical-align: middle;\n",
       "    }\n",
       "\n",
       "    .dataframe tbody tr th {\n",
       "        vertical-align: top;\n",
       "    }\n",
       "\n",
       "    .dataframe thead th {\n",
       "        text-align: right;\n",
       "    }\n",
       "</style>\n",
       "<table border=\"1\" class=\"dataframe\">\n",
       "  <thead>\n",
       "    <tr style=\"text-align: right;\">\n",
       "      <th></th>\n",
       "      <th>almost_closed</th>\n",
       "      <th>almost_open</th>\n",
       "      <th>closed</th>\n",
       "      <th>open</th>\n",
       "    </tr>\n",
       "  </thead>\n",
       "  <tbody>\n",
       "    <tr>\n",
       "      <th>00:00:00</th>\n",
       "      <td>0.000000e+00</td>\n",
       "      <td>0.000000e+00</td>\n",
       "      <td>0.000000e+00</td>\n",
       "      <td>0.000000e+00</td>\n",
       "    </tr>\n",
       "    <tr>\n",
       "      <th>00:00:00.000170</th>\n",
       "      <td>4.372601e-07</td>\n",
       "      <td>4.443116e-07</td>\n",
       "      <td>4.443116e-07</td>\n",
       "      <td>4.456350e-07</td>\n",
       "    </tr>\n",
       "    <tr>\n",
       "      <th>00:00:00.000340</th>\n",
       "      <td>1.283440e-05</td>\n",
       "      <td>1.300656e-05</td>\n",
       "      <td>1.300656e-05</td>\n",
       "      <td>1.303693e-05</td>\n",
       "    </tr>\n",
       "    <tr>\n",
       "      <th>00:00:00.000510</th>\n",
       "      <td>4.311583e-05</td>\n",
       "      <td>4.364509e-05</td>\n",
       "      <td>4.364509e-05</td>\n",
       "      <td>4.377377e-05</td>\n",
       "    </tr>\n",
       "    <tr>\n",
       "      <th>00:00:00.000680</th>\n",
       "      <td>1.957845e-05</td>\n",
       "      <td>1.987153e-05</td>\n",
       "      <td>1.987153e-05</td>\n",
       "      <td>1.991281e-05</td>\n",
       "    </tr>\n",
       "  </tbody>\n",
       "</table>\n",
       "</div>"
      ],
      "text/plain": [
       "                 almost_closed   almost_open        closed          open\n",
       "00:00:00          0.000000e+00  0.000000e+00  0.000000e+00  0.000000e+00\n",
       "00:00:00.000170   4.372601e-07  4.443116e-07  4.443116e-07  4.456350e-07\n",
       "00:00:00.000340   1.283440e-05  1.300656e-05  1.300656e-05  1.303693e-05\n",
       "00:00:00.000510   4.311583e-05  4.364509e-05  4.364509e-05  4.377377e-05\n",
       "00:00:00.000680   1.957845e-05  1.987153e-05  1.987153e-05  1.991281e-05"
      ]
     },
     "execution_count": 14,
     "metadata": {},
     "output_type": "execute_result"
    }
   ],
   "source": [
    "dictionary = {'closed' : dataset_simulation_sliding_lid[0], \n",
    "              'almost_closed' : dataset_simulation_sliding_lid[1], \n",
    "              'almost_open' : dataset_simulation_sliding_lid[2], \n",
    "              'open' : dataset_simulation_sliding_lid[3]}\n",
    "data_simulation_sliding_lid = pd.DataFrame(data = dictionary, index = pd.timedelta_range(start=pd.Timedelta(days=0), freq=str(round(1000/Fs[1], 5)) + 'ms', \n",
    "                                   periods=len(dataset_simulation_sliding_lid[0])))\n",
    "data_simulation_sliding_lid.head()"
   ]
  },
  {
   "cell_type": "code",
   "execution_count": 15,
   "metadata": {},
   "outputs": [
    {
     "data": {
      "text/html": [
       "<div>\n",
       "<style scoped>\n",
       "    .dataframe tbody tr th:only-of-type {\n",
       "        vertical-align: middle;\n",
       "    }\n",
       "\n",
       "    .dataframe tbody tr th {\n",
       "        vertical-align: top;\n",
       "    }\n",
       "\n",
       "    .dataframe thead th {\n",
       "        text-align: right;\n",
       "    }\n",
       "</style>\n",
       "<table border=\"1\" class=\"dataframe\">\n",
       "  <thead>\n",
       "    <tr style=\"text-align: right;\">\n",
       "      <th></th>\n",
       "      <th>indoor</th>\n",
       "      <th>outdoor</th>\n",
       "    </tr>\n",
       "  </thead>\n",
       "  <tbody>\n",
       "    <tr>\n",
       "      <th>00:00:00</th>\n",
       "      <td>1.556393e-09</td>\n",
       "      <td>-2.362008e-10</td>\n",
       "    </tr>\n",
       "    <tr>\n",
       "      <th>00:00:00.000020</th>\n",
       "      <td>2.463440e-09</td>\n",
       "      <td>-4.472272e-10</td>\n",
       "    </tr>\n",
       "    <tr>\n",
       "      <th>00:00:00.000041</th>\n",
       "      <td>4.057117e-09</td>\n",
       "      <td>-6.531437e-10</td>\n",
       "    </tr>\n",
       "    <tr>\n",
       "      <th>00:00:00.000062</th>\n",
       "      <td>5.005977e-09</td>\n",
       "      <td>-9.165875e-10</td>\n",
       "    </tr>\n",
       "    <tr>\n",
       "      <th>00:00:00.000083</th>\n",
       "      <td>6.631166e-09</td>\n",
       "      <td>-1.117426e-09</td>\n",
       "    </tr>\n",
       "  </tbody>\n",
       "</table>\n",
       "</div>"
      ],
      "text/plain": [
       "                       indoor       outdoor\n",
       "00:00:00         1.556393e-09 -2.362008e-10\n",
       "00:00:00.000020  2.463440e-09 -4.472272e-10\n",
       "00:00:00.000041  4.057117e-09 -6.531437e-10\n",
       "00:00:00.000062  5.005977e-09 -9.165875e-10\n",
       "00:00:00.000083  6.631166e-09 -1.117426e-09"
      ]
     },
     "execution_count": 15,
     "metadata": {},
     "output_type": "execute_result"
    }
   ],
   "source": [
    "dictionary = {'indoor' : dataset_measurement_studio_h[0], \n",
    "              'outdoor' : dataset_measurement_studio_h[1]}\n",
    "data_measurement_studio_h = pd.DataFrame(data = dictionary, index = pd.timedelta_range(start=pd.Timedelta(days=0), freq=str(round(1000/Fs[2], 5)) + 'ms', \n",
    "                                   periods=len(dataset_measurement_studio_h[0])))\n",
    "data_measurement_studio_h.head()"
   ]
  },
  {
   "cell_type": "code",
   "execution_count": 16,
   "metadata": {},
   "outputs": [
    {
     "data": {
      "text/html": [
       "<div>\n",
       "<style scoped>\n",
       "    .dataframe tbody tr th:only-of-type {\n",
       "        vertical-align: middle;\n",
       "    }\n",
       "\n",
       "    .dataframe tbody tr th {\n",
       "        vertical-align: top;\n",
       "    }\n",
       "\n",
       "    .dataframe thead th {\n",
       "        text-align: right;\n",
       "    }\n",
       "</style>\n",
       "<table border=\"1\" class=\"dataframe\">\n",
       "  <thead>\n",
       "    <tr style=\"text-align: right;\">\n",
       "      <th></th>\n",
       "      <th>large_volume</th>\n",
       "      <th>medium_volume</th>\n",
       "      <th>small_volume</th>\n",
       "    </tr>\n",
       "  </thead>\n",
       "  <tbody>\n",
       "    <tr>\n",
       "      <th>00:00:00</th>\n",
       "      <td>-2.717659e-07</td>\n",
       "      <td>-6.647863e-07</td>\n",
       "      <td>7.397113e-23</td>\n",
       "    </tr>\n",
       "    <tr>\n",
       "      <th>00:00:00.000062</th>\n",
       "      <td>-4.507983e-07</td>\n",
       "      <td>-1.057012e-06</td>\n",
       "      <td>8.979711e-09</td>\n",
       "    </tr>\n",
       "    <tr>\n",
       "      <th>00:00:00.000125</th>\n",
       "      <td>-1.991513e-06</td>\n",
       "      <td>-4.774106e-06</td>\n",
       "      <td>5.946165e-08</td>\n",
       "    </tr>\n",
       "    <tr>\n",
       "      <th>00:00:00.000187</th>\n",
       "      <td>-2.688895e-06</td>\n",
       "      <td>-6.295568e-06</td>\n",
       "      <td>3.970893e-08</td>\n",
       "    </tr>\n",
       "    <tr>\n",
       "      <th>00:00:00.000250</th>\n",
       "      <td>-4.685962e-06</td>\n",
       "      <td>-1.107776e-05</td>\n",
       "      <td>1.141448e-07</td>\n",
       "    </tr>\n",
       "  </tbody>\n",
       "</table>\n",
       "</div>"
      ],
      "text/plain": [
       "                 large_volume  medium_volume  small_volume\n",
       "00:00:00        -2.717659e-07  -6.647863e-07  7.397113e-23\n",
       "00:00:00.000062 -4.507983e-07  -1.057012e-06  8.979711e-09\n",
       "00:00:00.000125 -1.991513e-06  -4.774106e-06  5.946165e-08\n",
       "00:00:00.000187 -2.688895e-06  -6.295568e-06  3.970893e-08\n",
       "00:00:00.000250 -4.685962e-06  -1.107776e-05  1.141448e-07"
      ]
     },
     "execution_count": 16,
     "metadata": {},
     "output_type": "execute_result"
    }
   ],
   "source": [
    "dictionary = {'small_volume' : dataset_measurement_volume[0], \n",
    "              'medium_volume' : dataset_measurement_volume[1], \n",
    "              'large_volume' : dataset_measurement_volume[2]}\n",
    "data_measurement_volume = pd.DataFrame(data = dictionary, index = pd.timedelta_range(start=pd.Timedelta(days=0), freq=str(round(1000/Fs[3], 5)) + 'ms', \n",
    "                                   periods=len(dataset_measurement_volume[0])))\n",
    "data_measurement_volume.head()"
   ]
  },
  {
   "cell_type": "code",
   "execution_count": 17,
   "metadata": {},
   "outputs": [
    {
     "data": {
      "text/plain": [
       "[<matplotlib.lines.Line2D at 0x1f46b66cbe0>]"
      ]
     },
     "execution_count": 17,
     "metadata": {},
     "output_type": "execute_result"
    },
    {
     "data": {
      "image/png": "[encoded data removed]",
      "text/plain": [
       "<Figure size 432x288 with 1 Axes>"
      ]
     },
     "metadata": {},
     "output_type": "display_data"
    }
   ],
   "source": [
    "plt.plot(data_simulation_polybox['polybox1'])"
   ]
  },
  {
   "cell_type": "code",
   "execution_count": 18,
   "metadata": {},
   "outputs": [
    {
     "data": {
      "text/plain": [
       "[<matplotlib.lines.Line2D at 0x1f469026978>]"
      ]
     },
     "execution_count": 18,
     "metadata": {},
     "output_type": "execute_result"
    },
    {
     "data": {
      "image/png": "[encoded data removed]",
      "text/plain": [
       "<Figure size 432x288 with 1 Axes>"
      ]
     },
     "metadata": {},
     "output_type": "display_data"
    }
   ],
   "source": [
    "plt.plot(data_simulation_sliding_lid['closed'])"
   ]
  },
  {
   "cell_type": "code",
   "execution_count": 19,
   "metadata": {},
   "outputs": [
    {
     "data": {
      "text/plain": [
       "[<matplotlib.lines.Line2D at 0x1f4690617b8>]"
      ]
     },
     "execution_count": 19,
     "metadata": {},
     "output_type": "execute_result"
    },
    {
     "data": {
      "image/png": "[encoded data removed]",
      "text/plain": [
       "<Figure size 432x288 with 1 Axes>"
      ]
     },
     "metadata": {},
     "output_type": "display_data"
    }
   ],
   "source": [
    "plt.plot(data_measurement_studio_h['indoor'])"
   ]
  },
  {
   "cell_type": "code",
   "execution_count": 20,
   "metadata": {},
   "outputs": [
    {
     "data": {
      "text/plain": [
       "[<matplotlib.lines.Line2D at 0x1f46909c5c0>]"
      ]
     },
     "execution_count": 20,
     "metadata": {},
     "output_type": "execute_result"
    },
    {
     "data": {
      "image/png": "[encoded data removed]",
      "text/plain": [
       "<Figure size 432x288 with 1 Axes>"
      ]
     },
     "metadata": {},
     "output_type": "display_data"
    }
   ],
   "source": [
    "plt.plot(data_measurement_volume['small_volume'])"
   ]
  },
  {
   "cell_type": "code",
   "execution_count": null,
   "metadata": {},
   "outputs": [],
   "source": []
  },
  {
   "cell_type": "code",
   "execution_count": null,
   "metadata": {},
   "outputs": [],
   "source": []
  }
 ],
 "metadata": {
  "kernelspec": {
   "display_name": "Python [default]",
   "language": "python",
   "name": "python3"
  },
  "language_info": {
   "codemirror_mode": {
    "name": "ipython",
    "version": 3
   },
   "file_extension": ".py",
   "mimetype": "text/x-python",
   "name": "python",
   "nbconvert_exporter": "python",
   "pygments_lexer": "ipython3",
   "version": "3.5.6"
  }
 },
 "nbformat": 4,
 "nbformat_minor": 2
}
